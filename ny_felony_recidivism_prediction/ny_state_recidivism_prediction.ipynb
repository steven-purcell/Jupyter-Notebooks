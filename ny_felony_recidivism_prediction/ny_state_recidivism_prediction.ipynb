{
 "cells": [
  {
   "cell_type": "code",
   "execution_count": 1,
   "metadata": {},
   "outputs": [],
   "source": [
    "import pandas as pd\n",
    "import pandas_profiling\n",
    "import matplotlib.pyplot as plt\n",
    "import numpy\n",
    "import pprint\n",
    "%matplotlib inline\n",
    "\n",
    "from sklearn import metrics\n",
    "from sklearn.metrics import confusion_matrix\n",
    "from sklearn.model_selection import train_test_split\n",
    "from sklearn.ensemble import GradientBoostingClassifier\n",
    "\n",
    "\n",
    "pp = pprint.PrettyPrinter(indent=4)"
   ]
  },
  {
   "cell_type": "code",
   "execution_count": 2,
   "metadata": {},
   "outputs": [],
   "source": [
    "data = pd.read_csv(\".\\\\Recidivism__Beginning_2008.csv\")\n",
    "GradBoost = GradientBoostingClassifier()"
   ]
  },
  {
   "cell_type": "code",
   "execution_count": 3,
   "metadata": {},
   "outputs": [],
   "source": [
    "# Prepare replacements for categorical variables\n",
    "county_labels = data['County of Indictment'].astype('category').cat.categories.tolist()\n",
    "replace_county = {'County of Indictment' : {k: v for k,v in zip(county_labels,list(range(1,len(county_labels)+1)))}}\n",
    "\n",
    "gender_labels = data['Gender'].astype('category').cat.categories.tolist()\n",
    "replace_gender = {'Gender' : {'FEMALE': 0, 'MALE': 1}}\n",
    "\n",
    "replace_status = {'Return Status':{'Returned Parole Violation': 1, 'New Felony Offense': 1, 'Not Returned': 0}}"
   ]
  },
  {
   "cell_type": "code",
   "execution_count": 4,
   "metadata": {},
   "outputs": [],
   "source": [
    "# Copy and add dummies for categorical variables\n",
    "data_w_dummies = data.copy()\n",
    "data_w_dummies.replace(replace_county, inplace=True)\n",
    "data_w_dummies.replace(replace_gender, inplace=True)\n",
    "data_w_dummies.replace(replace_status, inplace=True)\n",
    "data_w_dummies = data_w_dummies.drop('Release Year', axis=1)"
   ]
  },
  {
   "cell_type": "code",
   "execution_count": 5,
   "metadata": {},
   "outputs": [],
   "source": [
    "x_data = data_w_dummies.iloc[:,0:-1]\n",
    "y_data = data_w_dummies.iloc[:,-1:]\n",
    "X_train, X_cv, y_train, y_cv = train_test_split(x_data, y_data, test_size=.20,\n",
    "                                                    random_state=numpy.random.randint(200))"
   ]
  },
  {
   "cell_type": "code",
   "execution_count": 6,
   "metadata": {
    "scrolled": false
   },
   "outputs": [
    {
     "name": "stderr",
     "output_type": "stream",
     "text": [
      "C:\\Users\\steve\\Anaconda3\\lib\\site-packages\\sklearn\\utils\\validation.py:578: DataConversionWarning: A column-vector y was passed when a 1d array was expected. Please change the shape of y to (n_samples, ), for example using ravel().\n",
      "  y = column_or_1d(y, warn=True)\n"
     ]
    },
    {
     "data": {
      "text/html": [
       "<div>\n",
       "<style scoped>\n",
       "    .dataframe tbody tr th:only-of-type {\n",
       "        vertical-align: middle;\n",
       "    }\n",
       "\n",
       "    .dataframe tbody tr th {\n",
       "        vertical-align: top;\n",
       "    }\n",
       "\n",
       "    .dataframe thead th {\n",
       "        text-align: right;\n",
       "    }\n",
       "</style>\n",
       "<table border=\"1\" class=\"dataframe\">\n",
       "  <thead>\n",
       "    <tr style=\"text-align: right;\">\n",
       "      <th></th>\n",
       "      <th>AUC</th>\n",
       "      <th>Accuracy</th>\n",
       "      <th>Classifier</th>\n",
       "      <th>Confusion Matrix</th>\n",
       "      <th>F1-Score</th>\n",
       "      <th>False Negative</th>\n",
       "      <th>False Positive</th>\n",
       "      <th>Precision</th>\n",
       "      <th>Recall</th>\n",
       "      <th>Sensitivity</th>\n",
       "      <th>Specificity</th>\n",
       "      <th>True Negative</th>\n",
       "      <th>True Positive</th>\n",
       "    </tr>\n",
       "  </thead>\n",
       "  <tbody>\n",
       "    <tr>\n",
       "      <th>0</th>\n",
       "      <td>0.529966</td>\n",
       "      <td>0.59754</td>\n",
       "      <td>GradientBoostingClassifier</td>\n",
       "      <td>[[13332  1173]\\n [ 8775  1438]]</td>\n",
       "      <td>0.224267</td>\n",
       "      <td>8775</td>\n",
       "      <td>1173</td>\n",
       "      <td>0.550747</td>\n",
       "      <td>0.140801</td>\n",
       "      <td>0.919131</td>\n",
       "      <td>0.140801</td>\n",
       "      <td>13332</td>\n",
       "      <td>1438</td>\n",
       "    </tr>\n",
       "  </tbody>\n",
       "</table>\n",
       "</div>"
      ],
      "text/plain": [
       "        AUC  Accuracy                  Classifier  \\\n",
       "0  0.529966   0.59754  GradientBoostingClassifier   \n",
       "\n",
       "                  Confusion Matrix  F1-Score  False Negative  False Positive  \\\n",
       "0  [[13332  1173]\\n [ 8775  1438]]  0.224267            8775            1173   \n",
       "\n",
       "   Precision    Recall  Sensitivity  Specificity  True Negative  True Positive  \n",
       "0   0.550747  0.140801     0.919131     0.140801          13332           1438  "
      ]
     },
     "execution_count": 6,
     "metadata": {},
     "output_type": "execute_result"
    }
   ],
   "source": [
    "clf = GradBoost\n",
    "\n",
    "scores, mean_auc, mean_tpr, mean_spec, mean_prec, mean_rec, mean_f1 = 0.0, 0.0, 0.0, 0.0, 0.0, 0.0, 0.0\n",
    "cm0 = numpy.zeros((2, 2))\n",
    "\n",
    "fit_data = clf.fit(X_train, y_train)\n",
    "preds = clf.predict(X_cv)\n",
    "\n",
    "'''Calculate performance metrics'''\n",
    "scores = metrics.accuracy_score(y_cv, preds)\n",
    "fpr, tpr, thresholds = metrics.roc_curve(y_cv, preds, pos_label=1)\n",
    "roc_auc = metrics.auc(fpr, tpr)\n",
    "mean_auc = roc_auc\n",
    "cm = metrics.confusion_matrix(y_cv, preds)\n",
    "mean_tpr = float(cm[0][0]) / numpy.sum(cm[0])\n",
    "cm0 = cm\n",
    "prec, rec, _, _ = metrics.precision_recall_fscore_support(y_cv, preds, pos_label=1, average='binary')\n",
    "mean_prec = numpy.mean(prec)\n",
    "mean_rec = numpy.mean(rec)\n",
    "mean_spec = rec\n",
    "mean_f1 = 2 * numpy.mean(prec) * numpy.mean(rec) / (numpy.mean(prec) + numpy.mean(rec))\n",
    "\n",
    "metrics_dict = {'Accuracy': float(scores),\n",
    "            'AUC': float(mean_auc),\n",
    "            'Sensitivity': float(mean_tpr),\n",
    "            'Specificity': float(mean_spec),\n",
    "            'Precision': float(mean_prec),\n",
    "            'Recall': float(mean_rec),\n",
    "            'F1-Score': float(mean_f1),\n",
    "            'Confusion Matrix': str(cm0),\n",
    "            'True Positive': int(cm0[1, 1]),\n",
    "            'True Negative': int(cm0[0, 0]),\n",
    "            'False Positive': int(cm0[0, 1]),\n",
    "            'False Negative': int(cm0[1, 0])}\n",
    "\n",
    "metrics_dict = {'Accuracy': float(scores),\n",
    "            'AUC': float(mean_auc),\n",
    "            'Sensitivity': float(mean_tpr),\n",
    "            'Specificity': float(mean_spec),\n",
    "            'Precision': float(mean_prec),\n",
    "            'Recall': float(mean_rec),\n",
    "            'F1-Score': float(mean_f1),\n",
    "            'Confusion Matrix': str(cm0),\n",
    "            'True Positive': int(cm0[1, 1]),\n",
    "            'True Negative': int(cm0[0, 0]),\n",
    "            'False Positive': int(cm0[0, 1]),\n",
    "            'False Negative': int(cm0[1, 0])}\n",
    "metrics_dict['Classifier'] = str(clf).split('(')[0]\n",
    "metrics_df = pd.DataFrame.from_records(metrics_dict, index=[0], exclude=None, columns=None, coerce_float=False, nrows=None)\n",
    "metrics_df.head()"
   ]
  },
  {
   "cell_type": "code",
   "execution_count": null,
   "metadata": {},
   "outputs": [],
   "source": []
  }
 ],
 "metadata": {
  "kernelspec": {
   "display_name": "Python 3",
   "language": "python",
   "name": "python3"
  },
  "language_info": {
   "codemirror_mode": {
    "name": "ipython",
    "version": 3
   },
   "file_extension": ".py",
   "mimetype": "text/x-python",
   "name": "python",
   "nbconvert_exporter": "python",
   "pygments_lexer": "ipython3",
   "version": "3.6.5"
  }
 },
 "nbformat": 4,
 "nbformat_minor": 2
}
